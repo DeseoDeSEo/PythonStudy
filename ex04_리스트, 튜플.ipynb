{
 "cells": [
  {
   "cell_type": "markdown",
   "id": "8d2e1453",
   "metadata": {},
   "source": [
    "# 🥑리스트\n",
    "##     : 파이썬의 자료구조 형태 중 하나\n",
    "##      순서가 있는 수정 가능한 객체의 집합\n",
    "##      대괄호[], 내부는 콤마(,)로 구분\n",
    "##       추가, 수정, 삭제 가능"
   ]
  },
  {
   "cell_type": "markdown",
   "id": "0b94c299",
   "metadata": {},
   "source": [
    "### -리스트 생성"
   ]
  },
  {
   "cell_type": "code",
   "execution_count": 6,
   "id": "0c1f401b",
   "metadata": {},
   "outputs": [
    {
     "name": "stdout",
     "output_type": "stream",
     "text": [
      "<class 'list'>\n",
      "[1, 2, 3]\n",
      "[1, 2, 'a', 'b']\n",
      "[1, 2, 'a', [3, 4, 'b', 'd']]\n"
     ]
    }
   ],
   "source": [
    "a = [ ]\n",
    "b = [1, 2, 3]\n",
    "c = ['My', 'Name']\n",
    "d = [1,2, 'a', 'b']\n",
    "f = [1,2,'a', [3,4,'b','d']]\n",
    "print(type(a))\n",
    "print(b)\n",
    "print(d)\n",
    "print(f)"
   ]
  },
  {
   "cell_type": "markdown",
   "id": "303fd4ce",
   "metadata": {},
   "source": [
    "# 🌴인덱싱(Indexing) > 무엇인가를 가리킨다.\n",
    "##     - 리스트명[인덱스] : 인덱스에 위치한 값을 반환\n",
    "\n",
    "\n",
    "# 🌴슬라이싱(Slicing) > 무엇인가를 잘라낸다.\n",
    "##     - 리스트명 [ 시작인덱스: 종료인덱스]: 시작인덱스 ~ 종료인덱스-1 값 반환"
   ]
  },
  {
   "cell_type": "code",
   "execution_count": 10,
   "id": "7d8df545",
   "metadata": {},
   "outputs": [
    {
     "name": "stdout",
     "output_type": "stream",
     "text": [
      "2\n",
      "9\n",
      "17\n"
     ]
    }
   ],
   "source": [
    "li1 = [2,5,7,9,10]\n",
    "print(li1[0])\n",
    "print(li1[3])\n",
    "print(li1[2] + li1[-1])"
   ]
  },
  {
   "cell_type": "code",
   "execution_count": 16,
   "id": "5aa8388d",
   "metadata": {},
   "outputs": [
    {
     "name": "stdout",
     "output_type": "stream",
     "text": [
      "[1, 2, 3, ['a', 'b', 'c']]\n",
      "b\n"
     ]
    }
   ],
   "source": [
    "li2 = [1,2,3,['a','b','c']]\n",
    "print(li2)\n",
    "temp = li2[3][1]\n",
    "print(temp)"
   ]
  },
  {
   "cell_type": "code",
   "execution_count": 19,
   "id": "75eb605b",
   "metadata": {},
   "outputs": [
    {
     "name": "stdout",
     "output_type": "stream",
     "text": [
      "[1, 2]\n",
      "[1, 2, 8, 6]\n"
     ]
    }
   ],
   "source": [
    "li3 = [4,1,2,8,6]\n",
    "print(li3[1:3])\n",
    "print(li3[1:])"
   ]
  },
  {
   "cell_type": "markdown",
   "id": "0ca06494",
   "metadata": {},
   "source": [
    "## 리스트 연산하기\n"
   ]
  },
  {
   "cell_type": "code",
   "execution_count": 22,
   "id": "9ac0fdd6",
   "metadata": {},
   "outputs": [
    {
     "name": "stdout",
     "output_type": "stream",
     "text": [
      "[1, 2, 3, 1, 2, 3, 1, 2, 3]\n",
      "[1, 2, 3, 3, 4, 5]\n"
     ]
    }
   ],
   "source": [
    "li4 = [ 1,2,3]\n",
    "li5 = [3,4,5]\n",
    "# print(li4 -1 ) + / 오류\n",
    "print(li4 *3)\n",
    "print (li4 + li5)\n",
    "# print (li4 * li5) # - / 오류 남."
   ]
  },
  {
   "cell_type": "markdown",
   "id": "a465fb9a",
   "metadata": {},
   "source": [
    "# 리스트 값 추가하기\n",
    "## 리스트명. append(추가할 값)\n",
    " "
   ]
  },
  {
   "cell_type": "code",
   "execution_count": 23,
   "id": "861e3505",
   "metadata": {},
   "outputs": [
    {
     "name": "stdout",
     "output_type": "stream",
     "text": [
      "[1, 4, 3, 7, 6, 5]\n"
     ]
    }
   ],
   "source": [
    "li6 = [1,4,3,7,6]\n",
    "li6.append(5) # 맨 마지막으로 값 추가됨.\n",
    "print(li6)"
   ]
  },
  {
   "cell_type": "markdown",
   "id": "7d8e54e5",
   "metadata": {},
   "source": [
    "## 리스트 값 삽입\n",
    "### -리스트명. insert(인덱스 , 값)"
   ]
  },
  {
   "cell_type": "code",
   "execution_count": 24,
   "id": "15de9dc0",
   "metadata": {},
   "outputs": [
    {
     "name": "stdout",
     "output_type": "stream",
     "text": [
      "[0, 5, 1, 2, 3, 4]\n"
     ]
    }
   ],
   "source": [
    "li7 = [0,1,2,3,4]\n",
    "li7.insert(1,5) # 인덱스 1번에 5가 추가 됨.\n",
    "print(li7)"
   ]
  },
  {
   "cell_type": "markdown",
   "id": "9fb73884",
   "metadata": {},
   "source": [
    "# 리스트 값 수정\n",
    "### -리스트명[인덱스] = 값\n",
    "### -리스트명[슬라이싱] = 값\n"
   ]
  },
  {
   "cell_type": "code",
   "execution_count": 28,
   "id": "7f05ceb1",
   "metadata": {},
   "outputs": [
    {
     "name": "stdout",
     "output_type": "stream",
     "text": [
      "[0, 7, 2, 3, 4]\n"
     ]
    }
   ],
   "source": [
    "li8 = [0,1,2,3,4]\n",
    "li8[1] = 7\n",
    "print(li8)\n",
    "li8[2:4] = [8] # 괄호 없이 숫자만 넣으면 오류 남."
   ]
  },
  {
   "cell_type": "code",
   "execution_count": 42,
   "id": "9d5516ec",
   "metadata": {},
   "outputs": [
    {
     "name": "stdout",
     "output_type": "stream",
     "text": [
      "[1, ['a', 'b', 'c'], 3, 4, 7]\n",
      "[1, ['a', 'b', 'c'], 3, 'd', 'e', 'f', 'g']\n",
      "['h', 'i', 'j', ['a', 'b', 'c'], 3, 'd', 'e', 'f', 'g']\n"
     ]
    }
   ],
   "source": [
    "array = [1,2,3,4,5]\n",
    "# 숫자 5를 7로 변경하기\n",
    "array[4] = 7\n",
    "\n",
    "# 숫자 2를 리스트['a','b','c']로 변경\n",
    "array[1] = ['a', 'b','c']\n",
    "print(array)\n",
    "\n",
    "# 4,7을 'd', 'e', 'f', 'g'로 변경\n",
    "array[3:] = 'd', 'e', 'f', 'g'\n",
    "print(array)\n",
    "\n",
    "#1을 'h', 'i', 'j'로 변경\n",
    "array[0:1] ='h', 'i', 'j'\n",
    "print(array)"
   ]
  },
  {
   "cell_type": "markdown",
   "id": "0a9cc26f",
   "metadata": {},
   "source": [
    "## 리스트 값 삭제하기\n",
    "### - 인덱스 이용\n",
    "       ( del 리스트명[인덱스 번호])\n",
    "### - 값을 이용\n",
    "       (리스트명 .remove(값))"
   ]
  },
  {
   "cell_type": "code",
   "execution_count": 43,
   "id": "a6ada4cd",
   "metadata": {},
   "outputs": [
    {
     "name": "stdout",
     "output_type": "stream",
     "text": [
      "[0, 2, 3, 4, 5]\n"
     ]
    }
   ],
   "source": [
    "li9 = [0,1,2,3,4,5]\n",
    "del li9[1]\n",
    "print(li9)"
   ]
  },
  {
   "cell_type": "code",
   "execution_count": 47,
   "id": "960199e2",
   "metadata": {},
   "outputs": [
    {
     "name": "stdout",
     "output_type": "stream",
     "text": [
      "['c', 'b', 'c']\n",
      "['b', 'c']\n"
     ]
    }
   ],
   "source": [
    "li9 = ['c','a','b','c']\n",
    "del li9[1]\n",
    "print(li9)\n",
    "\n",
    "li9.remove('c')\n",
    "print(li9)"
   ]
  },
  {
   "cell_type": "markdown",
   "id": "913bb273",
   "metadata": {},
   "source": [
    "## 리스트 정렬\n",
    "### -리스트명.sort( )\n"
   ]
  },
  {
   "cell_type": "code",
   "execution_count": 50,
   "id": "a932d8e7",
   "metadata": {},
   "outputs": [
    {
     "name": "stdout",
     "output_type": "stream",
     "text": [
      "[9, 77, 13, 51, 100, 3]\n",
      "[3, 9, 13, 51, 77, 100]\n",
      "[3, 100, 51, 13, 77, 9]\n"
     ]
    }
   ],
   "source": [
    "li10 = [9,77,13,51,100,3]\n",
    "print(li10)\n",
    "li10.sort()\n",
    "print(li10) # 기본적으로 오름차순 정렬'\n",
    "li10.sort(reverse =True) # 디폴트가 False임.\n",
    "print(li11) # 내림차순임"
   ]
  },
  {
   "cell_type": "markdown",
   "id": "933a57a4",
   "metadata": {},
   "source": [
    "### 리스트 순서 뒤집기\n",
    "##  - 리스트명. reverse()\n",
    "## 함수 정보 확인하기\n",
    "#### - 단축키 shift + tab"
   ]
  },
  {
   "cell_type": "code",
   "execution_count": 49,
   "id": "128d271e",
   "metadata": {},
   "outputs": [
    {
     "name": "stdout",
     "output_type": "stream",
     "text": [
      "[9, 77, 13, 51, 100, 3]\n",
      "[3, 100, 51, 13, 77, 9]\n"
     ]
    }
   ],
   "source": [
    "li11 = [9,77,13,51,100,3]\n",
    "print(li11)\n",
    "li11.reverse()\n",
    "print(li11)"
   ]
  },
  {
   "cell_type": "code",
   "execution_count": null,
   "id": "7329b373",
   "metadata": {},
   "outputs": [],
   "source": [
    "li12 = [9,33,42,11,56,['a''b']]"
   ]
  },
  {
   "cell_type": "markdown",
   "id": "7d4d3463",
   "metadata": {},
   "source": [
    "### 리스트의 값 위치 반환하기\n",
    "### -리스트명.index('값 )\n"
   ]
  },
  {
   "cell_type": "code",
   "execution_count": 52,
   "id": "086d1895",
   "metadata": {},
   "outputs": [
    {
     "name": "stdout",
     "output_type": "stream",
     "text": [
      "2\n",
      "6\n",
      "5\n"
     ]
    }
   ],
   "source": [
    "li12 = ['a','b','c','d','e','f']\n",
    "print(li12.index('c'))\n",
    "print(len(li12))\n",
    "print(len('안녕하세요'))"
   ]
  },
  {
   "cell_type": "markdown",
   "id": "bdd3953e",
   "metadata": {},
   "source": [
    "#  튜플\n",
    "## : 순서가 있는 집합, 소괄호() , 내부 값은 콤마(,)로 구분\n",
    "## 추가, 수정, 삭제 불가능\n",
    "### 파이썬의 자료 구조 형태 "
   ]
  },
  {
   "cell_type": "code",
   "execution_count": 58,
   "id": "7cb9e550",
   "metadata": {
    "scrolled": true
   },
   "outputs": [
    {
     "name": "stdout",
     "output_type": "stream",
     "text": [
      "<class 'tuple'>\n",
      "('a', 'b', 'c')\n",
      "<class 'str'>\n",
      "('a', 'b', ('c', 1, 2))\n"
     ]
    }
   ],
   "source": [
    "# 튜플생성\n",
    "a =()\n",
    "b=(1,2,3)\n",
    "c=('a','b','c')\n",
    "d= ('a','b',('c',1,2))\n",
    "e = 1,2,3,4,5\n",
    "a,b = (1,2,3,4),5\n",
    "name =('kimmihee')\n",
    "\n",
    "print(type(a))\n",
    "print(c)\n",
    "print(type(name)) # tuple 나오려면 name =('kimmihee',)컴마를 붙여줘야한다.\n",
    "print(d)\n"
   ]
  },
  {
   "cell_type": "code",
   "execution_count": 61,
   "id": "22cd90ea",
   "metadata": {},
   "outputs": [
    {
     "name": "stdout",
     "output_type": "stream",
     "text": [
      "3\n",
      "(1, 2, 3)\n",
      "(1, 2, 3, ('a', 'b', 'c'))\n"
     ]
    }
   ],
   "source": [
    "# 튜플 인덱싱/ 슬라이싱\n",
    "tu1 = (0,1,2,3,('a','b','c'),5)\n",
    "print(tu1[3])\n",
    "print(tu1[1:4])\n",
    "print(tu1[1:5])"
   ]
  },
  {
   "attachments": {
    "image-2.png": {
     "image/png": "[encoded data removed]"
    },
    "image.png": {
     "image/png": "[encoded data removed]"
    }
   },
   "cell_type": "markdown",
   "id": "b9ee3619",
   "metadata": {},
   "source": [
    "![image.png](attachment:image.png)\n",
    "![image-2.png](attachment:image-2.png)"
   ]
  },
  {
   "cell_type": "code",
   "execution_count": 65,
   "id": "82c5aa3b",
   "metadata": {},
   "outputs": [
    {
     "name": "stdout",
     "output_type": "stream",
     "text": [
      "True\n",
      "False\n",
      "False\n",
      "True\n",
      "미포함\n"
     ]
    }
   ],
   "source": [
    "str1 = '파이썬 최고'\n",
    "print('파이썬' in str1)\n",
    "print('파이썬'not in str1 )\n",
    "\n",
    "li = [77, 38,10]\n",
    "print(33 in li)\n",
    "print(33 not in li)\n",
    "\n",
    "if 'python' in str1 :\n",
    "    print('포함')\n",
    "else:\n",
    "    print('미포함')"
   ]
  },
  {
   "cell_type": "code",
   "execution_count": null,
   "id": "5c072b2f",
   "metadata": {},
   "outputs": [
    {
     "name": "stdout",
     "output_type": "stream",
     "text": [
      "************************************************************\n"
     ]
    }
   ],
   "source": [
    "list = ['딸기', '바나나', '수박', '체리','포도']\n",
    "print(\"*\"*60)\n",
    "ans = input(\"검색할 문자를 입력하세요 >> \")\n",
    "if ans in list:\n",
    "    num = list.index(ans)\n",
    "    print('{}은 리스트에 {}번째 인덱스에 들어있습니다.' . format (ans, num))\n",
    "else:\n",
    "          print(f'{ans}은 리스트에 들어있지 않습니다.')"
   ]
  },
  {
   "cell_type": "code",
   "execution_count": 4,
   "id": "1f29b5de",
   "metadata": {},
   "outputs": [
    {
     "name": "stdout",
     "output_type": "stream",
     "text": [
      "************************************************************\n",
      "검색할 문자를 입력하세요 : i\n",
      "i는 3번 들어있습니다.\n"
     ]
    }
   ],
   "source": [
    "print('*'* 60)\n",
    "s = 'Hi, My name is Mihee'\n",
    "ans = input(\"검색할 문자를 입력하세요 : \" )\n",
    "if ans in s:\n",
    "    num = s.count(ans)\n",
    "    print(f'{ans}는 {num}번 들어있습니다.')\n",
    "else:\n",
    "     print(f'{ans}는 문자열에 들어있지 않습니다.')"
   ]
  },
  {
   "cell_type": "code",
   "execution_count": null,
   "id": "2273e584",
   "metadata": {},
   "outputs": [],
   "source": []
  },
  {
   "cell_type": "code",
   "execution_count": null,
   "id": "baffac2f",
   "metadata": {},
   "outputs": [],
   "source": []
  },
  {
   "cell_type": "code",
   "execution_count": null,
   "id": "502817d3",
   "metadata": {},
   "outputs": [],
   "source": []
  },
  {
   "cell_type": "code",
   "execution_count": null,
   "id": "451ed388",
   "metadata": {},
   "outputs": [],
   "source": []
  },
  {
   "cell_type": "code",
   "execution_count": null,
   "id": "f51160d1",
   "metadata": {},
   "outputs": [],
   "source": []
  },
  {
   "cell_type": "code",
   "execution_count": null,
   "id": "a05314f1",
   "metadata": {},
   "outputs": [],
   "source": []
  },
  {
   "cell_type": "code",
   "execution_count": null,
   "id": "90f10536",
   "metadata": {},
   "outputs": [],
   "source": []
  },
  {
   "cell_type": "code",
   "execution_count": null,
   "id": "1c5a3075",
   "metadata": {},
   "outputs": [],
   "source": []
  },
  {
   "cell_type": "code",
   "execution_count": null,
   "id": "8556169c",
   "metadata": {},
   "outputs": [],
   "source": []
  }
 ],
 "metadata": {
  "celltoolbar": "Tags",
  "kernelspec": {
   "display_name": "Python 3 (ipykernel)",
   "language": "python",
   "name": "python3"
  },
  "language_info": {
   "codemirror_mode": {
    "name": "ipython",
    "version": 3
   },
   "file_extension": ".py",
   "mimetype": "text/x-python",
   "name": "python",
   "nbconvert_exporter": "python",
   "pygments_lexer": "ipython3",
   "version": "3.10.9"
  }
 },
 "nbformat": 4,
 "nbformat_minor": 5
}
